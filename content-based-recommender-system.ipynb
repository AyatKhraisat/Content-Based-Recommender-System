{
 "cells": [
  {
   "cell_type": "markdown",
   "metadata": {
    "id": "QJYftvEqJEpH",
    "papermill": {
     "duration": 0.030825,
     "end_time": "2021-03-01T10:56:33.134166",
     "exception": false,
     "start_time": "2021-03-01T10:56:33.103341",
     "status": "completed"
    },
    "tags": []
   },
   "source": [
    "#  Content Based Recommender System\n",
    "\n",
    "![](https://images.unsplash.com/photo-1598899134739-24c46f58b8c0?ixid=MXwxMjA3fDB8MHxwaG90by1wYWdlfHx8fGVufDB8fHw%3D&ixlib=rb-1.2.1&auto=format&fit=crop&w=1476&q=80)\n",
    "\n",
    "Recommendations are playing a major role in social media, advertisement and many other applications. We will start the series with a simple content-based algorithm. You can use it to create similar movies; which are used for 'more like this' or, 'because you watched' and maybe 'recommended for you'.\n",
    "\n",
    "### What is Content Based Recomendation ?\n",
    "The content-based Recommender extract movie metadata such as genres, cast, overview, etc. then convert them into features then find similar movies based on these features. \n",
    "The content-Based recommender could generate bad results if you didn't utilize metadata wisely, once I got Ice Age as a recommendation because I watched Titanic!. First, you should determine specific criteria of how the recommender system will recommend. Our criteria will be to recommend movies with same features as directors, cast, genres, keywords, release date, etc. The director, genres and cast. Will have a higher weight than the other features.\n",
    "\n",
    "We will start with importing, cleaning and preparing the data.\n"
   ]
  },
  {
   "cell_type": "code",
   "execution_count": 1,
   "metadata": {
    "execution": {
     "iopub.execute_input": "2021-03-01T10:56:33.201635Z",
     "iopub.status.busy": "2021-03-01T10:56:33.200957Z",
     "iopub.status.idle": "2021-03-01T10:56:34.140445Z",
     "shell.execute_reply": "2021-03-01T10:56:34.140990Z"
    },
    "id": "0xQ_ybLlJEpJ",
    "papermill": {
     "duration": 0.977468,
     "end_time": "2021-03-01T10:56:34.141326",
     "exception": false,
     "start_time": "2021-03-01T10:56:33.163858",
     "status": "completed"
    },
    "tags": []
   },
   "outputs": [],
   "source": [
    "from pandas.core.computation.expressions import evaluate\n",
    "%matplotlib inline\n",
    "import pandas as pd\n",
    "import numpy as np\n",
    "import matplotlib.pyplot as plt\n",
    "from scipy import stats\n",
    "from ast import literal_eval\n",
    "from sklearn.feature_extraction.text import TfidfVectorizer, CountVectorizer\n",
    "from sklearn.metrics.pairwise import linear_kernel, cosine_similarity\n"
   ]
  },
  {
   "cell_type": "code",
   "execution_count": 2,
   "metadata": {
    "execution": {
     "iopub.execute_input": "2021-03-01T10:56:34.208037Z",
     "iopub.status.busy": "2021-03-01T10:56:34.207209Z",
     "iopub.status.idle": "2021-03-01T10:56:39.895110Z",
     "shell.execute_reply": "2021-03-01T10:56:39.894539Z"
    },
    "id": "SUnuTBxGJEpJ",
    "outputId": "412f092b-2545-4172-d8e3-eaa0aa592f8e",
    "papermill": {
     "duration": 5.722493,
     "end_time": "2021-03-01T10:56:39.895279",
     "exception": false,
     "start_time": "2021-03-01T10:56:34.172786",
     "status": "completed"
    },
    "tags": []
   },
   "outputs": [
    {
     "name": "stderr",
     "output_type": "stream",
     "text": [
      "/opt/conda/lib/python3.7/site-packages/IPython/core/interactiveshell.py:3147: DtypeWarning: Columns (10) have mixed types.Specify dtype option on import or set low_memory=False.\n",
      "  interactivity=interactivity, compiler=compiler, result=result)\n"
     ]
    }
   ],
   "source": [
    "\n",
    "credits=pd.read_csv('../input/the-movies-dataset/credits.csv')\n",
    "movies=pd.read_csv('../input/the-movies-dataset/movies_metadata.csv')\n",
    "keywords=pd.read_csv('../input/the-movies-dataset/keywords.csv')\n",
    "\n"
   ]
  },
  {
   "cell_type": "code",
   "execution_count": 3,
   "metadata": {
    "execution": {
     "iopub.execute_input": "2021-03-01T10:56:40.028303Z",
     "iopub.status.busy": "2021-03-01T10:56:39.970222Z",
     "iopub.status.idle": "2021-03-01T10:56:40.096326Z",
     "shell.execute_reply": "2021-03-01T10:56:40.095747Z"
    },
    "id": "c-hiNUayJEpK",
    "papermill": {
     "duration": 0.170534,
     "end_time": "2021-03-01T10:56:40.096488",
     "exception": false,
     "start_time": "2021-03-01T10:56:39.925954",
     "status": "completed"
    },
    "tags": []
   },
   "outputs": [],
   "source": [
    "credits['id']=credits['id'].astype('str')\n",
    "keywords['id']=keywords['id'].astype('str')"
   ]
  },
  {
   "cell_type": "markdown",
   "metadata": {
    "id": "J-regds3JEpM",
    "papermill": {
     "duration": 0.030506,
     "end_time": "2021-03-01T10:56:40.157295",
     "exception": false,
     "start_time": "2021-03-01T10:56:40.126789",
     "status": "completed"
    },
    "tags": []
   },
   "source": [
    "Generate one DataFrame from the three dataframes "
   ]
  },
  {
   "cell_type": "code",
   "execution_count": 4,
   "metadata": {
    "execution": {
     "iopub.execute_input": "2021-03-01T10:56:40.257923Z",
     "iopub.status.busy": "2021-03-01T10:56:40.223775Z",
     "iopub.status.idle": "2021-03-01T10:56:40.417147Z",
     "shell.execute_reply": "2021-03-01T10:56:40.416555Z"
    },
    "id": "QjJftZB2JEpN",
    "papermill": {
     "duration": 0.229625,
     "end_time": "2021-03-01T10:56:40.417298",
     "exception": false,
     "start_time": "2021-03-01T10:56:40.187673",
     "status": "completed"
    },
    "scrolled": true,
    "tags": []
   },
   "outputs": [],
   "source": [
    "training_df=(credits.merge(movies,on='id')).merge(keywords,on='id')"
   ]
  },
  {
   "cell_type": "markdown",
   "metadata": {
    "papermill": {
     "duration": 0.030187,
     "end_time": "2021-03-01T10:56:40.477945",
     "exception": false,
     "start_time": "2021-03-01T10:56:40.447758",
     "status": "completed"
    },
    "tags": []
   },
   "source": [
    "We have a large dataset, so it will take only the first 10000 movies for testing, using the whole dataset will cause slowness in the algorithm. You can change it as you like.  Using a small dataset will make it difficult for the algorithm to work well. So make sure to slice enough data."
   ]
  },
  {
   "cell_type": "code",
   "execution_count": 5,
   "metadata": {
    "execution": {
     "iopub.execute_input": "2021-03-01T10:56:40.544514Z",
     "iopub.status.busy": "2021-03-01T10:56:40.543538Z",
     "iopub.status.idle": "2021-03-01T10:56:40.547162Z",
     "shell.execute_reply": "2021-03-01T10:56:40.546597Z"
    },
    "papermill": {
     "duration": 0.038916,
     "end_time": "2021-03-01T10:56:40.547313",
     "exception": false,
     "start_time": "2021-03-01T10:56:40.508397",
     "status": "completed"
    },
    "tags": []
   },
   "outputs": [],
   "source": [
    "training_df=training_df[:10000]"
   ]
  },
  {
   "cell_type": "markdown",
   "metadata": {
    "papermill": {
     "duration": 0.030154,
     "end_time": "2021-03-01T10:56:40.607959",
     "exception": false,
     "start_time": "2021-03-01T10:56:40.577805",
     "status": "completed"
    },
    "tags": []
   },
   "source": [
    "We will not use all the features(columns) from the dataset in the algorithm, for example, revenue, video homepage and many other features are irrelevant data.  Sometimes including this kind of data will decrease the algorithm accuracy. other data as cast, crew, genres need some cleaning to extract names only from them."
   ]
  },
  {
   "cell_type": "code",
   "execution_count": 6,
   "metadata": {
    "execution": {
     "iopub.execute_input": "2021-03-01T10:56:40.680924Z",
     "iopub.status.busy": "2021-03-01T10:56:40.679905Z",
     "iopub.status.idle": "2021-03-01T10:56:40.713867Z",
     "shell.execute_reply": "2021-03-01T10:56:40.714366Z"
    },
    "papermill": {
     "duration": 0.075818,
     "end_time": "2021-03-01T10:56:40.714562",
     "exception": false,
     "start_time": "2021-03-01T10:56:40.638744",
     "status": "completed"
    },
    "tags": []
   },
   "outputs": [
    {
     "data": {
      "text/html": [
       "<div>\n",
       "<style scoped>\n",
       "    .dataframe tbody tr th:only-of-type {\n",
       "        vertical-align: middle;\n",
       "    }\n",
       "\n",
       "    .dataframe tbody tr th {\n",
       "        vertical-align: top;\n",
       "    }\n",
       "\n",
       "    .dataframe thead th {\n",
       "        text-align: right;\n",
       "    }\n",
       "</style>\n",
       "<table border=\"1\" class=\"dataframe\">\n",
       "  <thead>\n",
       "    <tr style=\"text-align: right;\">\n",
       "      <th></th>\n",
       "      <th>cast</th>\n",
       "      <th>crew</th>\n",
       "      <th>id</th>\n",
       "      <th>adult</th>\n",
       "      <th>belongs_to_collection</th>\n",
       "      <th>budget</th>\n",
       "      <th>genres</th>\n",
       "      <th>homepage</th>\n",
       "      <th>imdb_id</th>\n",
       "      <th>original_language</th>\n",
       "      <th>...</th>\n",
       "      <th>revenue</th>\n",
       "      <th>runtime</th>\n",
       "      <th>spoken_languages</th>\n",
       "      <th>status</th>\n",
       "      <th>tagline</th>\n",
       "      <th>title</th>\n",
       "      <th>video</th>\n",
       "      <th>vote_average</th>\n",
       "      <th>vote_count</th>\n",
       "      <th>keywords</th>\n",
       "    </tr>\n",
       "  </thead>\n",
       "  <tbody>\n",
       "    <tr>\n",
       "      <th>0</th>\n",
       "      <td>[{'cast_id': 14, 'character': 'Woody (voice)',...</td>\n",
       "      <td>[{'credit_id': '52fe4284c3a36847f8024f49', 'de...</td>\n",
       "      <td>862</td>\n",
       "      <td>False</td>\n",
       "      <td>{'id': 10194, 'name': 'Toy Story Collection', ...</td>\n",
       "      <td>30000000</td>\n",
       "      <td>[{'id': 16, 'name': 'Animation'}, {'id': 35, '...</td>\n",
       "      <td>http://toystory.disney.com/toy-story</td>\n",
       "      <td>tt0114709</td>\n",
       "      <td>en</td>\n",
       "      <td>...</td>\n",
       "      <td>373554033.0</td>\n",
       "      <td>81.0</td>\n",
       "      <td>[{'iso_639_1': 'en', 'name': 'English'}]</td>\n",
       "      <td>Released</td>\n",
       "      <td>NaN</td>\n",
       "      <td>Toy Story</td>\n",
       "      <td>False</td>\n",
       "      <td>7.7</td>\n",
       "      <td>5415.0</td>\n",
       "      <td>[{'id': 931, 'name': 'jealousy'}, {'id': 4290,...</td>\n",
       "    </tr>\n",
       "    <tr>\n",
       "      <th>1</th>\n",
       "      <td>[{'cast_id': 1, 'character': 'Alan Parrish', '...</td>\n",
       "      <td>[{'credit_id': '52fe44bfc3a36847f80a7cd1', 'de...</td>\n",
       "      <td>8844</td>\n",
       "      <td>False</td>\n",
       "      <td>NaN</td>\n",
       "      <td>65000000</td>\n",
       "      <td>[{'id': 12, 'name': 'Adventure'}, {'id': 14, '...</td>\n",
       "      <td>NaN</td>\n",
       "      <td>tt0113497</td>\n",
       "      <td>en</td>\n",
       "      <td>...</td>\n",
       "      <td>262797249.0</td>\n",
       "      <td>104.0</td>\n",
       "      <td>[{'iso_639_1': 'en', 'name': 'English'}, {'iso...</td>\n",
       "      <td>Released</td>\n",
       "      <td>Roll the dice and unleash the excitement!</td>\n",
       "      <td>Jumanji</td>\n",
       "      <td>False</td>\n",
       "      <td>6.9</td>\n",
       "      <td>2413.0</td>\n",
       "      <td>[{'id': 10090, 'name': 'board game'}, {'id': 1...</td>\n",
       "    </tr>\n",
       "    <tr>\n",
       "      <th>2</th>\n",
       "      <td>[{'cast_id': 2, 'character': 'Max Goldman', 'c...</td>\n",
       "      <td>[{'credit_id': '52fe466a9251416c75077a89', 'de...</td>\n",
       "      <td>15602</td>\n",
       "      <td>False</td>\n",
       "      <td>{'id': 119050, 'name': 'Grumpy Old Men Collect...</td>\n",
       "      <td>0</td>\n",
       "      <td>[{'id': 10749, 'name': 'Romance'}, {'id': 35, ...</td>\n",
       "      <td>NaN</td>\n",
       "      <td>tt0113228</td>\n",
       "      <td>en</td>\n",
       "      <td>...</td>\n",
       "      <td>0.0</td>\n",
       "      <td>101.0</td>\n",
       "      <td>[{'iso_639_1': 'en', 'name': 'English'}]</td>\n",
       "      <td>Released</td>\n",
       "      <td>Still Yelling. Still Fighting. Still Ready for...</td>\n",
       "      <td>Grumpier Old Men</td>\n",
       "      <td>False</td>\n",
       "      <td>6.5</td>\n",
       "      <td>92.0</td>\n",
       "      <td>[{'id': 1495, 'name': 'fishing'}, {'id': 12392...</td>\n",
       "    </tr>\n",
       "    <tr>\n",
       "      <th>3</th>\n",
       "      <td>[{'cast_id': 1, 'character': \"Savannah 'Vannah...</td>\n",
       "      <td>[{'credit_id': '52fe44779251416c91011acb', 'de...</td>\n",
       "      <td>31357</td>\n",
       "      <td>False</td>\n",
       "      <td>NaN</td>\n",
       "      <td>16000000</td>\n",
       "      <td>[{'id': 35, 'name': 'Comedy'}, {'id': 18, 'nam...</td>\n",
       "      <td>NaN</td>\n",
       "      <td>tt0114885</td>\n",
       "      <td>en</td>\n",
       "      <td>...</td>\n",
       "      <td>81452156.0</td>\n",
       "      <td>127.0</td>\n",
       "      <td>[{'iso_639_1': 'en', 'name': 'English'}]</td>\n",
       "      <td>Released</td>\n",
       "      <td>Friends are the people who let you be yourself...</td>\n",
       "      <td>Waiting to Exhale</td>\n",
       "      <td>False</td>\n",
       "      <td>6.1</td>\n",
       "      <td>34.0</td>\n",
       "      <td>[{'id': 818, 'name': 'based on novel'}, {'id':...</td>\n",
       "    </tr>\n",
       "    <tr>\n",
       "      <th>4</th>\n",
       "      <td>[{'cast_id': 1, 'character': 'George Banks', '...</td>\n",
       "      <td>[{'credit_id': '52fe44959251416c75039ed7', 'de...</td>\n",
       "      <td>11862</td>\n",
       "      <td>False</td>\n",
       "      <td>{'id': 96871, 'name': 'Father of the Bride Col...</td>\n",
       "      <td>0</td>\n",
       "      <td>[{'id': 35, 'name': 'Comedy'}]</td>\n",
       "      <td>NaN</td>\n",
       "      <td>tt0113041</td>\n",
       "      <td>en</td>\n",
       "      <td>...</td>\n",
       "      <td>76578911.0</td>\n",
       "      <td>106.0</td>\n",
       "      <td>[{'iso_639_1': 'en', 'name': 'English'}]</td>\n",
       "      <td>Released</td>\n",
       "      <td>Just When His World Is Back To Normal... He's ...</td>\n",
       "      <td>Father of the Bride Part II</td>\n",
       "      <td>False</td>\n",
       "      <td>5.7</td>\n",
       "      <td>173.0</td>\n",
       "      <td>[{'id': 1009, 'name': 'baby'}, {'id': 1599, 'n...</td>\n",
       "    </tr>\n",
       "  </tbody>\n",
       "</table>\n",
       "<p>5 rows × 27 columns</p>\n",
       "</div>"
      ],
      "text/plain": [
       "                                                cast  \\\n",
       "0  [{'cast_id': 14, 'character': 'Woody (voice)',...   \n",
       "1  [{'cast_id': 1, 'character': 'Alan Parrish', '...   \n",
       "2  [{'cast_id': 2, 'character': 'Max Goldman', 'c...   \n",
       "3  [{'cast_id': 1, 'character': \"Savannah 'Vannah...   \n",
       "4  [{'cast_id': 1, 'character': 'George Banks', '...   \n",
       "\n",
       "                                                crew     id  adult  \\\n",
       "0  [{'credit_id': '52fe4284c3a36847f8024f49', 'de...    862  False   \n",
       "1  [{'credit_id': '52fe44bfc3a36847f80a7cd1', 'de...   8844  False   \n",
       "2  [{'credit_id': '52fe466a9251416c75077a89', 'de...  15602  False   \n",
       "3  [{'credit_id': '52fe44779251416c91011acb', 'de...  31357  False   \n",
       "4  [{'credit_id': '52fe44959251416c75039ed7', 'de...  11862  False   \n",
       "\n",
       "                               belongs_to_collection    budget  \\\n",
       "0  {'id': 10194, 'name': 'Toy Story Collection', ...  30000000   \n",
       "1                                                NaN  65000000   \n",
       "2  {'id': 119050, 'name': 'Grumpy Old Men Collect...         0   \n",
       "3                                                NaN  16000000   \n",
       "4  {'id': 96871, 'name': 'Father of the Bride Col...         0   \n",
       "\n",
       "                                              genres  \\\n",
       "0  [{'id': 16, 'name': 'Animation'}, {'id': 35, '...   \n",
       "1  [{'id': 12, 'name': 'Adventure'}, {'id': 14, '...   \n",
       "2  [{'id': 10749, 'name': 'Romance'}, {'id': 35, ...   \n",
       "3  [{'id': 35, 'name': 'Comedy'}, {'id': 18, 'nam...   \n",
       "4                     [{'id': 35, 'name': 'Comedy'}]   \n",
       "\n",
       "                               homepage    imdb_id original_language  ...  \\\n",
       "0  http://toystory.disney.com/toy-story  tt0114709                en  ...   \n",
       "1                                   NaN  tt0113497                en  ...   \n",
       "2                                   NaN  tt0113228                en  ...   \n",
       "3                                   NaN  tt0114885                en  ...   \n",
       "4                                   NaN  tt0113041                en  ...   \n",
       "\n",
       "       revenue runtime                                   spoken_languages  \\\n",
       "0  373554033.0    81.0           [{'iso_639_1': 'en', 'name': 'English'}]   \n",
       "1  262797249.0   104.0  [{'iso_639_1': 'en', 'name': 'English'}, {'iso...   \n",
       "2          0.0   101.0           [{'iso_639_1': 'en', 'name': 'English'}]   \n",
       "3   81452156.0   127.0           [{'iso_639_1': 'en', 'name': 'English'}]   \n",
       "4   76578911.0   106.0           [{'iso_639_1': 'en', 'name': 'English'}]   \n",
       "\n",
       "     status                                            tagline  \\\n",
       "0  Released                                                NaN   \n",
       "1  Released          Roll the dice and unleash the excitement!   \n",
       "2  Released  Still Yelling. Still Fighting. Still Ready for...   \n",
       "3  Released  Friends are the people who let you be yourself...   \n",
       "4  Released  Just When His World Is Back To Normal... He's ...   \n",
       "\n",
       "                         title  video  vote_average  vote_count  \\\n",
       "0                    Toy Story  False           7.7      5415.0   \n",
       "1                      Jumanji  False           6.9      2413.0   \n",
       "2             Grumpier Old Men  False           6.5        92.0   \n",
       "3            Waiting to Exhale  False           6.1        34.0   \n",
       "4  Father of the Bride Part II  False           5.7       173.0   \n",
       "\n",
       "                                            keywords  \n",
       "0  [{'id': 931, 'name': 'jealousy'}, {'id': 4290,...  \n",
       "1  [{'id': 10090, 'name': 'board game'}, {'id': 1...  \n",
       "2  [{'id': 1495, 'name': 'fishing'}, {'id': 12392...  \n",
       "3  [{'id': 818, 'name': 'based on novel'}, {'id':...  \n",
       "4  [{'id': 1009, 'name': 'baby'}, {'id': 1599, 'n...  \n",
       "\n",
       "[5 rows x 27 columns]"
      ]
     },
     "execution_count": 6,
     "metadata": {},
     "output_type": "execute_result"
    }
   ],
   "source": [
    "training_df.head(5)"
   ]
  },
  {
   "cell_type": "markdown",
   "metadata": {
    "papermill": {
     "duration": 0.03104,
     "end_time": "2021-03-01T10:56:40.776756",
     "exception": false,
     "start_time": "2021-03-01T10:56:40.745716",
     "status": "completed"
    },
    "tags": []
   },
   "source": [
    " We will only work with released movies. It does not make a scene to recommend rumoured or post-production movies."
   ]
  },
  {
   "cell_type": "code",
   "execution_count": 7,
   "metadata": {
    "execution": {
     "iopub.execute_input": "2021-03-01T10:56:40.851567Z",
     "iopub.status.busy": "2021-03-01T10:56:40.850509Z",
     "iopub.status.idle": "2021-03-01T10:56:40.855385Z",
     "shell.execute_reply": "2021-03-01T10:56:40.854753Z"
    },
    "papermill": {
     "duration": 0.047649,
     "end_time": "2021-03-01T10:56:40.855545",
     "exception": false,
     "start_time": "2021-03-01T10:56:40.807896",
     "status": "completed"
    },
    "tags": []
   },
   "outputs": [
    {
     "data": {
      "text/plain": [
       "Released           9953\n",
       "Rumored              38\n",
       "Post Production       1\n",
       "Name: status, dtype: int64"
      ]
     },
     "execution_count": 7,
     "metadata": {},
     "output_type": "execute_result"
    }
   ],
   "source": [
    "training_df['status'].value_counts()"
   ]
  },
  {
   "cell_type": "code",
   "execution_count": 8,
   "metadata": {
    "execution": {
     "iopub.execute_input": "2021-03-01T10:56:40.927379Z",
     "iopub.status.busy": "2021-03-01T10:56:40.926716Z",
     "iopub.status.idle": "2021-03-01T10:56:40.945959Z",
     "shell.execute_reply": "2021-03-01T10:56:40.945339Z"
    },
    "papermill": {
     "duration": 0.058026,
     "end_time": "2021-03-01T10:56:40.946108",
     "exception": false,
     "start_time": "2021-03-01T10:56:40.888082",
     "status": "completed"
    },
    "tags": []
   },
   "outputs": [],
   "source": [
    "training_df=training_df[training_df['status']=='Released']\n",
    "training_df.drop('status', axis=1, inplace=True)"
   ]
  },
  {
   "cell_type": "markdown",
   "metadata": {
    "papermill": {
     "duration": 0.03334,
     "end_time": "2021-03-01T10:56:41.012004",
     "exception": false,
     "start_time": "2021-03-01T10:56:40.978664",
     "status": "completed"
    },
    "tags": []
   },
   "source": [
    "I will use only 'title', 'cast', 'crew', 'genres', 'keywords', 'original_language', 'popularity' and 'release_date'. We will not rely on overview or tagline, These feature could confuse the algorithm because it could be written allegory that the computer could not understand.  "
   ]
  },
  {
   "cell_type": "code",
   "execution_count": 9,
   "metadata": {
    "execution": {
     "iopub.execute_input": "2021-03-01T10:56:41.087158Z",
     "iopub.status.busy": "2021-03-01T10:56:41.086463Z",
     "iopub.status.idle": "2021-03-01T10:56:41.089151Z",
     "shell.execute_reply": "2021-03-01T10:56:41.088521Z"
    },
    "id": "ZaylNGesJEpN",
    "papermill": {
     "duration": 0.043993,
     "end_time": "2021-03-01T10:56:41.089308",
     "exception": false,
     "start_time": "2021-03-01T10:56:41.045315",
     "status": "completed"
    },
    "tags": []
   },
   "outputs": [],
   "source": [
    "training_df=training_df[['title','cast','crew','genres','keywords','original_language',\n",
    "                         'popularity','release_date']]\n"
   ]
  },
  {
   "cell_type": "code",
   "execution_count": 10,
   "metadata": {
    "execution": {
     "iopub.execute_input": "2021-03-01T10:56:41.160756Z",
     "iopub.status.busy": "2021-03-01T10:56:41.160072Z",
     "iopub.status.idle": "2021-03-01T10:56:41.172224Z",
     "shell.execute_reply": "2021-03-01T10:56:41.171631Z"
    },
    "papermill": {
     "duration": 0.050601,
     "end_time": "2021-03-01T10:56:41.172392",
     "exception": false,
     "start_time": "2021-03-01T10:56:41.121791",
     "status": "completed"
    },
    "tags": []
   },
   "outputs": [
    {
     "data": {
      "text/html": [
       "<div>\n",
       "<style scoped>\n",
       "    .dataframe tbody tr th:only-of-type {\n",
       "        vertical-align: middle;\n",
       "    }\n",
       "\n",
       "    .dataframe tbody tr th {\n",
       "        vertical-align: top;\n",
       "    }\n",
       "\n",
       "    .dataframe thead th {\n",
       "        text-align: right;\n",
       "    }\n",
       "</style>\n",
       "<table border=\"1\" class=\"dataframe\">\n",
       "  <thead>\n",
       "    <tr style=\"text-align: right;\">\n",
       "      <th></th>\n",
       "      <th>title</th>\n",
       "      <th>cast</th>\n",
       "      <th>crew</th>\n",
       "      <th>genres</th>\n",
       "      <th>keywords</th>\n",
       "      <th>original_language</th>\n",
       "      <th>popularity</th>\n",
       "      <th>release_date</th>\n",
       "    </tr>\n",
       "  </thead>\n",
       "  <tbody>\n",
       "    <tr>\n",
       "      <th>0</th>\n",
       "      <td>Toy Story</td>\n",
       "      <td>[{'cast_id': 14, 'character': 'Woody (voice)',...</td>\n",
       "      <td>[{'credit_id': '52fe4284c3a36847f8024f49', 'de...</td>\n",
       "      <td>[{'id': 16, 'name': 'Animation'}, {'id': 35, '...</td>\n",
       "      <td>[{'id': 931, 'name': 'jealousy'}, {'id': 4290,...</td>\n",
       "      <td>en</td>\n",
       "      <td>21.946943</td>\n",
       "      <td>1995-10-30</td>\n",
       "    </tr>\n",
       "    <tr>\n",
       "      <th>1</th>\n",
       "      <td>Jumanji</td>\n",
       "      <td>[{'cast_id': 1, 'character': 'Alan Parrish', '...</td>\n",
       "      <td>[{'credit_id': '52fe44bfc3a36847f80a7cd1', 'de...</td>\n",
       "      <td>[{'id': 12, 'name': 'Adventure'}, {'id': 14, '...</td>\n",
       "      <td>[{'id': 10090, 'name': 'board game'}, {'id': 1...</td>\n",
       "      <td>en</td>\n",
       "      <td>17.015539</td>\n",
       "      <td>1995-12-15</td>\n",
       "    </tr>\n",
       "    <tr>\n",
       "      <th>2</th>\n",
       "      <td>Grumpier Old Men</td>\n",
       "      <td>[{'cast_id': 2, 'character': 'Max Goldman', 'c...</td>\n",
       "      <td>[{'credit_id': '52fe466a9251416c75077a89', 'de...</td>\n",
       "      <td>[{'id': 10749, 'name': 'Romance'}, {'id': 35, ...</td>\n",
       "      <td>[{'id': 1495, 'name': 'fishing'}, {'id': 12392...</td>\n",
       "      <td>en</td>\n",
       "      <td>11.712900</td>\n",
       "      <td>1995-12-22</td>\n",
       "    </tr>\n",
       "  </tbody>\n",
       "</table>\n",
       "</div>"
      ],
      "text/plain": [
       "              title                                               cast  \\\n",
       "0         Toy Story  [{'cast_id': 14, 'character': 'Woody (voice)',...   \n",
       "1           Jumanji  [{'cast_id': 1, 'character': 'Alan Parrish', '...   \n",
       "2  Grumpier Old Men  [{'cast_id': 2, 'character': 'Max Goldman', 'c...   \n",
       "\n",
       "                                                crew  \\\n",
       "0  [{'credit_id': '52fe4284c3a36847f8024f49', 'de...   \n",
       "1  [{'credit_id': '52fe44bfc3a36847f80a7cd1', 'de...   \n",
       "2  [{'credit_id': '52fe466a9251416c75077a89', 'de...   \n",
       "\n",
       "                                              genres  \\\n",
       "0  [{'id': 16, 'name': 'Animation'}, {'id': 35, '...   \n",
       "1  [{'id': 12, 'name': 'Adventure'}, {'id': 14, '...   \n",
       "2  [{'id': 10749, 'name': 'Romance'}, {'id': 35, ...   \n",
       "\n",
       "                                            keywords original_language  \\\n",
       "0  [{'id': 931, 'name': 'jealousy'}, {'id': 4290,...                en   \n",
       "1  [{'id': 10090, 'name': 'board game'}, {'id': 1...                en   \n",
       "2  [{'id': 1495, 'name': 'fishing'}, {'id': 12392...                en   \n",
       "\n",
       "  popularity release_date  \n",
       "0  21.946943   1995-10-30  \n",
       "1  17.015539   1995-12-15  \n",
       "2  11.712900   1995-12-22  "
      ]
     },
     "execution_count": 10,
     "metadata": {},
     "output_type": "execute_result"
    }
   ],
   "source": [
    "training_df.head(3)"
   ]
  },
  {
   "cell_type": "markdown",
   "metadata": {
    "id": "2zivXVWfJEpN",
    "papermill": {
     "duration": 0.033373,
     "end_time": "2021-03-01T10:56:41.239276",
     "exception": false,
     "start_time": "2021-03-01T10:56:41.205903",
     "status": "completed"
    },
    "tags": []
   },
   "source": [
    "We will use clean_data method to remove any special characters in the words. Then encode them to ASCII after and use underscore between words so the algorithm will count it as one word."
   ]
  },
  {
   "cell_type": "code",
   "execution_count": 11,
   "metadata": {
    "execution": {
     "iopub.execute_input": "2021-03-01T10:56:41.308752Z",
     "iopub.status.busy": "2021-03-01T10:56:41.307970Z",
     "iopub.status.idle": "2021-03-01T10:56:41.313837Z",
     "shell.execute_reply": "2021-03-01T10:56:41.314371Z"
    },
    "id": "uXQc036zJEpO",
    "papermill": {
     "duration": 0.042359,
     "end_time": "2021-03-01T10:56:41.314600",
     "exception": false,
     "start_time": "2021-03-01T10:56:41.272241",
     "status": "completed"
    },
    "tags": []
   },
   "outputs": [],
   "source": [
    "import unicodedata\n",
    "import re\n",
    "def clean_data(value):\n",
    "    value =  unicodedata.normalize('NFD', value).encode('ascii', 'ignore').decode('ascii')\n",
    "    x= str.lower(re.sub(r\"[^a-zA-Z0-9]+\", '_', value.strip().replace(\" \",\"_\")))\n",
    "    if(x!='_'):\n",
    "        return x \n",
    "    else:\n",
    "        return \" \" \n",
    "    "
   ]
  },
  {
   "cell_type": "code",
   "execution_count": 12,
   "metadata": {
    "execution": {
     "iopub.execute_input": "2021-03-01T10:56:41.384462Z",
     "iopub.status.busy": "2021-03-01T10:56:41.383786Z",
     "iopub.status.idle": "2021-03-01T10:56:41.400589Z",
     "shell.execute_reply": "2021-03-01T10:56:41.401118Z"
    },
    "id": "SftgZqqkJEpS",
    "outputId": "82e7bcca-f4de-4ee5-e688-8a65c20af794",
    "papermill": {
     "duration": 0.053597,
     "end_time": "2021-03-01T10:56:41.401287",
     "exception": false,
     "start_time": "2021-03-01T10:56:41.347690",
     "status": "completed"
    },
    "tags": []
   },
   "outputs": [
    {
     "data": {
      "text/plain": [
       "title                0\n",
       "cast                 0\n",
       "crew                 0\n",
       "genres               0\n",
       "keywords             0\n",
       "original_language    0\n",
       "popularity           0\n",
       "release_date         4\n",
       "dtype: int64"
      ]
     },
     "execution_count": 12,
     "metadata": {},
     "output_type": "execute_result"
    }
   ],
   "source": [
    " training_df.isnull().sum()"
   ]
  },
  {
   "cell_type": "code",
   "execution_count": 13,
   "metadata": {
    "execution": {
     "iopub.execute_input": "2021-03-01T10:56:41.471980Z",
     "iopub.status.busy": "2021-03-01T10:56:41.471310Z",
     "iopub.status.idle": "2021-03-01T10:56:41.478278Z",
     "shell.execute_reply": "2021-03-01T10:56:41.478834Z"
    },
    "id": "DZwXBDlFJEpS",
    "papermill": {
     "duration": 0.044282,
     "end_time": "2021-03-01T10:56:41.479013",
     "exception": false,
     "start_time": "2021-03-01T10:56:41.434731",
     "status": "completed"
    },
    "tags": []
   },
   "outputs": [],
   "source": [
    "training_df['original_language']=training_df['original_language'].fillna('').astype('str')\n"
   ]
  },
  {
   "cell_type": "markdown",
   "metadata": {
    "papermill": {
     "duration": 0.03355,
     "end_time": "2021-03-01T10:56:41.547458",
     "exception": false,
     "start_time": "2021-03-01T10:56:41.513908",
     "status": "completed"
    },
    "tags": []
   },
   "source": [
    "Use the day and month of the release date for the movie does not make sense. We will convert the release date to release decade, so the algorithm be able to recommend movies with a similar decade."
   ]
  },
  {
   "cell_type": "code",
   "execution_count": 14,
   "metadata": {
    "execution": {
     "iopub.execute_input": "2021-03-01T10:56:41.618463Z",
     "iopub.status.busy": "2021-03-01T10:56:41.617768Z",
     "iopub.status.idle": "2021-03-01T10:56:41.634822Z",
     "shell.execute_reply": "2021-03-01T10:56:41.634100Z"
    },
    "papermill": {
     "duration": 0.053782,
     "end_time": "2021-03-01T10:56:41.634980",
     "exception": false,
     "start_time": "2021-03-01T10:56:41.581198",
     "status": "completed"
    },
    "tags": []
   },
   "outputs": [],
   "source": [
    "\n",
    "training_df['release_date'] = pd.to_datetime(training_df['release_date'], errors='coerce')\n"
   ]
  },
  {
   "cell_type": "code",
   "execution_count": 15,
   "metadata": {
    "execution": {
     "iopub.execute_input": "2021-03-01T10:56:41.709740Z",
     "iopub.status.busy": "2021-03-01T10:56:41.709014Z",
     "iopub.status.idle": "2021-03-01T10:56:41.713617Z",
     "shell.execute_reply": "2021-03-01T10:56:41.713094Z"
    },
    "papermill": {
     "duration": 0.044959,
     "end_time": "2021-03-01T10:56:41.713824",
     "exception": false,
     "start_time": "2021-03-01T10:56:41.668865",
     "status": "completed"
    },
    "tags": []
   },
   "outputs": [
    {
     "data": {
      "text/plain": [
       "0   1995-10-30\n",
       "1   1995-12-15\n",
       "2   1995-12-22\n",
       "Name: release_date, dtype: datetime64[ns]"
      ]
     },
     "execution_count": 15,
     "metadata": {},
     "output_type": "execute_result"
    }
   ],
   "source": [
    "training_df['release_date'].head(3)"
   ]
  },
  {
   "cell_type": "code",
   "execution_count": 16,
   "metadata": {
    "execution": {
     "iopub.execute_input": "2021-03-01T10:56:41.788887Z",
     "iopub.status.busy": "2021-03-01T10:56:41.788234Z",
     "iopub.status.idle": "2021-03-01T10:56:41.806477Z",
     "shell.execute_reply": "2021-03-01T10:56:41.805805Z"
    },
    "id": "EMD6paPkJEpT",
    "outputId": "68bcd4b0-3e1f-4952-e9ad-a807ee461827",
    "papermill": {
     "duration": 0.05859,
     "end_time": "2021-03-01T10:56:41.806622",
     "exception": false,
     "start_time": "2021-03-01T10:56:41.748032",
     "status": "completed"
    },
    "tags": []
   },
   "outputs": [],
   "source": [
    "import math\n",
    "training_df['release_date']=training_df['release_date'].dt.year.fillna(0).astype('int')\n",
    "training_df['release_date']=training_df['release_date'].apply(lambda x: str(math.floor((int(x))/ 10) * 10))\n"
   ]
  },
  {
   "cell_type": "code",
   "execution_count": 17,
   "metadata": {
    "execution": {
     "iopub.execute_input": "2021-03-01T10:56:41.883466Z",
     "iopub.status.busy": "2021-03-01T10:56:41.882427Z",
     "iopub.status.idle": "2021-03-01T10:56:41.887756Z",
     "shell.execute_reply": "2021-03-01T10:56:41.886990Z"
    },
    "papermill": {
     "duration": 0.046906,
     "end_time": "2021-03-01T10:56:41.887909",
     "exception": false,
     "start_time": "2021-03-01T10:56:41.841003",
     "status": "completed"
    },
    "tags": []
   },
   "outputs": [
    {
     "data": {
      "text/plain": [
       "0    1990\n",
       "1    1990\n",
       "2    1990\n",
       "Name: release_date, dtype: object"
      ]
     },
     "execution_count": 17,
     "metadata": {},
     "output_type": "execute_result"
    }
   ],
   "source": [
    "\n",
    "training_df['release_date'].head(3)"
   ]
  },
  {
   "cell_type": "code",
   "execution_count": 18,
   "metadata": {
    "execution": {
     "iopub.execute_input": "2021-03-01T10:56:42.093283Z",
     "iopub.status.busy": "2021-03-01T10:56:42.071491Z",
     "iopub.status.idle": "2021-03-01T10:56:48.230537Z",
     "shell.execute_reply": "2021-03-01T10:56:48.229931Z"
    },
    "id": "Ij0dBI5HJEpU",
    "papermill": {
     "duration": 6.307591,
     "end_time": "2021-03-01T10:56:48.230696",
     "exception": false,
     "start_time": "2021-03-01T10:56:41.923105",
     "status": "completed"
    },
    "tags": []
   },
   "outputs": [],
   "source": [
    "import ast\n",
    "training_df['cast']=training_df['cast'].apply(lambda s: list(ast.literal_eval(s)))"
   ]
  },
  {
   "cell_type": "markdown",
   "metadata": {
    "papermill": {
     "duration": 0.034589,
     "end_time": "2021-03-01T10:56:48.300032",
     "exception": false,
     "start_time": "2021-03-01T10:56:48.265443",
     "status": "completed"
    },
    "tags": []
   },
   "source": [
    "We will only use the first three leading actors of the movie. Some movies have only one leading actor, Others have many. So we will stick with three. We will extract only the names of the cast as we mention earlier."
   ]
  },
  {
   "cell_type": "code",
   "execution_count": 19,
   "metadata": {
    "execution": {
     "iopub.execute_input": "2021-03-01T10:56:48.460367Z",
     "iopub.status.busy": "2021-03-01T10:56:48.455281Z",
     "iopub.status.idle": "2021-03-01T10:56:48.641877Z",
     "shell.execute_reply": "2021-03-01T10:56:48.641198Z"
    },
    "id": "FgTHLPQ2JEpU",
    "outputId": "7c2f10be-acee-4873-e036-dc29315319fd",
    "papermill": {
     "duration": 0.307146,
     "end_time": "2021-03-01T10:56:48.642040",
     "exception": false,
     "start_time": "2021-03-01T10:56:48.334894",
     "status": "completed"
    },
    "tags": []
   },
   "outputs": [
    {
     "data": {
      "text/html": [
       "<div>\n",
       "<style scoped>\n",
       "    .dataframe tbody tr th:only-of-type {\n",
       "        vertical-align: middle;\n",
       "    }\n",
       "\n",
       "    .dataframe tbody tr th {\n",
       "        vertical-align: top;\n",
       "    }\n",
       "\n",
       "    .dataframe thead th {\n",
       "        text-align: right;\n",
       "    }\n",
       "</style>\n",
       "<table border=\"1\" class=\"dataframe\">\n",
       "  <thead>\n",
       "    <tr style=\"text-align: right;\">\n",
       "      <th></th>\n",
       "      <th>title</th>\n",
       "      <th>cast</th>\n",
       "      <th>crew</th>\n",
       "      <th>genres</th>\n",
       "      <th>keywords</th>\n",
       "      <th>original_language</th>\n",
       "      <th>popularity</th>\n",
       "      <th>release_date</th>\n",
       "    </tr>\n",
       "  </thead>\n",
       "  <tbody>\n",
       "    <tr>\n",
       "      <th>0</th>\n",
       "      <td>Toy Story</td>\n",
       "      <td>[tom_hanks, tim_allen, don_rickles]</td>\n",
       "      <td>[{'credit_id': '52fe4284c3a36847f8024f49', 'de...</td>\n",
       "      <td>[{'id': 16, 'name': 'Animation'}, {'id': 35, '...</td>\n",
       "      <td>[{'id': 931, 'name': 'jealousy'}, {'id': 4290,...</td>\n",
       "      <td>en</td>\n",
       "      <td>21.946943</td>\n",
       "      <td>1990</td>\n",
       "    </tr>\n",
       "    <tr>\n",
       "      <th>1</th>\n",
       "      <td>Jumanji</td>\n",
       "      <td>[robin_williams, jonathan_hyde, kirsten_dunst]</td>\n",
       "      <td>[{'credit_id': '52fe44bfc3a36847f80a7cd1', 'de...</td>\n",
       "      <td>[{'id': 12, 'name': 'Adventure'}, {'id': 14, '...</td>\n",
       "      <td>[{'id': 10090, 'name': 'board game'}, {'id': 1...</td>\n",
       "      <td>en</td>\n",
       "      <td>17.015539</td>\n",
       "      <td>1990</td>\n",
       "    </tr>\n",
       "    <tr>\n",
       "      <th>2</th>\n",
       "      <td>Grumpier Old Men</td>\n",
       "      <td>[walter_matthau, jack_lemmon, ann_margret]</td>\n",
       "      <td>[{'credit_id': '52fe466a9251416c75077a89', 'de...</td>\n",
       "      <td>[{'id': 10749, 'name': 'Romance'}, {'id': 35, ...</td>\n",
       "      <td>[{'id': 1495, 'name': 'fishing'}, {'id': 12392...</td>\n",
       "      <td>en</td>\n",
       "      <td>11.712900</td>\n",
       "      <td>1990</td>\n",
       "    </tr>\n",
       "  </tbody>\n",
       "</table>\n",
       "</div>"
      ],
      "text/plain": [
       "              title                                            cast  \\\n",
       "0         Toy Story             [tom_hanks, tim_allen, don_rickles]   \n",
       "1           Jumanji  [robin_williams, jonathan_hyde, kirsten_dunst]   \n",
       "2  Grumpier Old Men      [walter_matthau, jack_lemmon, ann_margret]   \n",
       "\n",
       "                                                crew  \\\n",
       "0  [{'credit_id': '52fe4284c3a36847f8024f49', 'de...   \n",
       "1  [{'credit_id': '52fe44bfc3a36847f80a7cd1', 'de...   \n",
       "2  [{'credit_id': '52fe466a9251416c75077a89', 'de...   \n",
       "\n",
       "                                              genres  \\\n",
       "0  [{'id': 16, 'name': 'Animation'}, {'id': 35, '...   \n",
       "1  [{'id': 12, 'name': 'Adventure'}, {'id': 14, '...   \n",
       "2  [{'id': 10749, 'name': 'Romance'}, {'id': 35, ...   \n",
       "\n",
       "                                            keywords original_language  \\\n",
       "0  [{'id': 931, 'name': 'jealousy'}, {'id': 4290,...                en   \n",
       "1  [{'id': 10090, 'name': 'board game'}, {'id': 1...                en   \n",
       "2  [{'id': 1495, 'name': 'fishing'}, {'id': 12392...                en   \n",
       "\n",
       "  popularity release_date  \n",
       "0  21.946943         1990  \n",
       "1  17.015539         1990  \n",
       "2  11.712900         1990  "
      ]
     },
     "execution_count": 19,
     "metadata": {},
     "output_type": "execute_result"
    }
   ],
   "source": [
    "training_df['cast'] = training_df['cast'].map(lambda x: x[:3] if len(x) >=4 else x)\n",
    "training_df['cast']=training_df['cast'].apply((lambda cast : [ clean_data(actor['name'])  for actor in cast  if actor != '' and actor != ' ' ]))\n",
    "training_df.head(3)"
   ]
  },
  {
   "cell_type": "code",
   "execution_count": 20,
   "metadata": {
    "execution": {
     "iopub.execute_input": "2021-03-01T10:56:48.760353Z",
     "iopub.status.busy": "2021-03-01T10:56:48.749777Z",
     "iopub.status.idle": "2021-03-01T10:56:48.773324Z",
     "shell.execute_reply": "2021-03-01T10:56:48.772611Z"
    },
    "id": "kI66oVICJEpU",
    "papermill": {
     "duration": 0.095723,
     "end_time": "2021-03-01T10:56:48.773492",
     "exception": false,
     "start_time": "2021-03-01T10:56:48.677769",
     "status": "completed"
    },
    "tags": []
   },
   "outputs": [],
   "source": [
    "\n",
    "training_df['clean_title']=training_df['title'].apply((lambda title: clean_data(title)))\n"
   ]
  },
  {
   "cell_type": "markdown",
   "metadata": {
    "papermill": {
     "duration": 0.035366,
     "end_time": "2021-03-01T10:56:48.845620",
     "exception": false,
     "start_time": "2021-03-01T10:56:48.810254",
     "status": "completed"
    },
    "tags": []
   },
   "source": [
    "We will use the director name only from the crew. "
   ]
  },
  {
   "cell_type": "code",
   "execution_count": 21,
   "metadata": {
    "execution": {
     "iopub.execute_input": "2021-03-01T10:56:49.006537Z",
     "iopub.status.busy": "2021-03-01T10:56:48.967898Z",
     "iopub.status.idle": "2021-03-01T10:56:54.227122Z",
     "shell.execute_reply": "2021-03-01T10:56:54.227647Z"
    },
    "id": "GivIZVMsJEpU",
    "papermill": {
     "duration": 5.344895,
     "end_time": "2021-03-01T10:56:54.227852",
     "exception": false,
     "start_time": "2021-03-01T10:56:48.882957",
     "status": "completed"
    },
    "tags": []
   },
   "outputs": [],
   "source": [
    "def get_director(crew):\n",
    "    for man in crew :\n",
    "        if(man['job']==\"Director\"):\n",
    "            return   clean_data(man['name'])\n",
    "    return np.nan \n",
    "    \n",
    "training_df['crew']=training_df['crew'].apply(lambda s: list(literal_eval(s)))\n",
    "training_df['crew']=training_df['crew'].apply(get_director)\n",
    "training_df['crew']=training_df['crew'].fillna('')"
   ]
  },
  {
   "cell_type": "code",
   "execution_count": 22,
   "metadata": {
    "execution": {
     "iopub.execute_input": "2021-03-01T10:56:54.331764Z",
     "iopub.status.busy": "2021-03-01T10:56:54.310681Z",
     "iopub.status.idle": "2021-03-01T10:56:54.727116Z",
     "shell.execute_reply": "2021-03-01T10:56:54.726529Z"
    },
    "id": "i1MW4azOJEpV",
    "papermill": {
     "duration": 0.463413,
     "end_time": "2021-03-01T10:56:54.727325",
     "exception": false,
     "start_time": "2021-03-01T10:56:54.263912",
     "status": "completed"
    },
    "tags": []
   },
   "outputs": [],
   "source": [
    "training_df['genres']=training_df['genres'].apply(lambda s: list(ast.literal_eval(s)))\n",
    "training_df['genres']=training_df['genres'].apply((lambda genres : [ clean_data(genre['name'])  for genre in genres]))\n"
   ]
  },
  {
   "cell_type": "markdown",
   "metadata": {
    "papermill": {
     "duration": 0.036205,
     "end_time": "2021-03-01T10:56:54.799439",
     "exception": false,
     "start_time": "2021-03-01T10:56:54.763234",
     "status": "completed"
    },
    "tags": []
   },
   "source": [
    "We will only select keywords that appear more than two times and not more than 30 times, other than that it will not be a helpful keyword."
   ]
  },
  {
   "cell_type": "code",
   "execution_count": 23,
   "metadata": {
    "execution": {
     "iopub.execute_input": "2021-03-01T10:56:54.909892Z",
     "iopub.status.busy": "2021-03-01T10:56:54.904570Z",
     "iopub.status.idle": "2021-03-01T10:57:00.627397Z",
     "shell.execute_reply": "2021-03-01T10:57:00.626728Z"
    },
    "id": "20fnVXPfJEpV",
    "papermill": {
     "duration": 5.791383,
     "end_time": "2021-03-01T10:57:00.627561",
     "exception": false,
     "start_time": "2021-03-01T10:56:54.836178",
     "status": "completed"
    },
    "tags": []
   },
   "outputs": [
    {
     "name": "stderr",
     "output_type": "stream",
     "text": [
      "/opt/conda/lib/python3.7/site-packages/ipykernel_launcher.py:4: DeprecationWarning: The default dtype for empty Series will be 'object' instead of 'float64' in a future version. Specify a dtype explicitly to silence this warning.\n",
      "  after removing the cwd from sys.path.\n"
     ]
    }
   ],
   "source": [
    "training_df['keywords']=training_df['keywords'].apply(lambda s: list(ast.literal_eval(s)))\n",
    "training_df['keywords']=training_df['keywords'].apply((lambda keywords : [ keyword['name']  for keyword in keywords]))\n",
    "\n",
    "keywords = training_df.apply(lambda x: pd.Series(x['keywords']),axis=1).stack().reset_index(level=1, drop=True)\n",
    "keywords_count = keywords.value_counts()\n",
    "\n",
    "\n"
   ]
  },
  {
   "cell_type": "code",
   "execution_count": 24,
   "metadata": {
    "execution": {
     "iopub.execute_input": "2021-03-01T10:57:00.708743Z",
     "iopub.status.busy": "2021-03-01T10:57:00.708059Z",
     "iopub.status.idle": "2021-03-01T10:57:01.015832Z",
     "shell.execute_reply": "2021-03-01T10:57:01.015252Z"
    },
    "papermill": {
     "duration": 0.352206,
     "end_time": "2021-03-01T10:57:01.015991",
     "exception": false,
     "start_time": "2021-03-01T10:57:00.663785",
     "status": "completed"
    },
    "tags": []
   },
   "outputs": [],
   "source": [
    "valid_keywords=keywords_count[(keywords_count > 2) & (keywords_count<30) ]\n",
    "training_df['keywords'] = training_df['keywords'].apply(\n",
    "    lambda row: [clean_data(val)  for val in row if val in valid_keywords]\n",
    ")"
   ]
  },
  {
   "cell_type": "code",
   "execution_count": 25,
   "metadata": {
    "execution": {
     "iopub.execute_input": "2021-03-01T10:57:01.111744Z",
     "iopub.status.busy": "2021-03-01T10:57:01.110971Z",
     "iopub.status.idle": "2021-03-01T10:57:01.116256Z",
     "shell.execute_reply": "2021-03-01T10:57:01.115488Z"
    },
    "papermill": {
     "duration": 0.062694,
     "end_time": "2021-03-01T10:57:01.116442",
     "exception": false,
     "start_time": "2021-03-01T10:57:01.053748",
     "status": "completed"
    },
    "tags": []
   },
   "outputs": [
    {
     "data": {
      "text/html": [
       "<div>\n",
       "<style scoped>\n",
       "    .dataframe tbody tr th:only-of-type {\n",
       "        vertical-align: middle;\n",
       "    }\n",
       "\n",
       "    .dataframe tbody tr th {\n",
       "        vertical-align: top;\n",
       "    }\n",
       "\n",
       "    .dataframe thead th {\n",
       "        text-align: right;\n",
       "    }\n",
       "</style>\n",
       "<table border=\"1\" class=\"dataframe\">\n",
       "  <thead>\n",
       "    <tr style=\"text-align: right;\">\n",
       "      <th></th>\n",
       "      <th>title</th>\n",
       "      <th>cast</th>\n",
       "      <th>crew</th>\n",
       "      <th>genres</th>\n",
       "      <th>keywords</th>\n",
       "      <th>original_language</th>\n",
       "      <th>popularity</th>\n",
       "      <th>release_date</th>\n",
       "      <th>clean_title</th>\n",
       "    </tr>\n",
       "  </thead>\n",
       "  <tbody>\n",
       "    <tr>\n",
       "      <th>0</th>\n",
       "      <td>Toy Story</td>\n",
       "      <td>[tom_hanks, tim_allen, don_rickles]</td>\n",
       "      <td>john_lasseter</td>\n",
       "      <td>[animation, comedy, family]</td>\n",
       "      <td>[toy, boy, rivalry, boy_next_door, toy_comes_t...</td>\n",
       "      <td>en</td>\n",
       "      <td>21.946943</td>\n",
       "      <td>1990</td>\n",
       "      <td>toy_story</td>\n",
       "    </tr>\n",
       "    <tr>\n",
       "      <th>1</th>\n",
       "      <td>Jumanji</td>\n",
       "      <td>[robin_williams, jonathan_hyde, kirsten_dunst]</td>\n",
       "      <td>joe_johnston</td>\n",
       "      <td>[adventure, fantasy, family]</td>\n",
       "      <td>[board_game, disappearance, based_on_children_...</td>\n",
       "      <td>en</td>\n",
       "      <td>17.015539</td>\n",
       "      <td>1990</td>\n",
       "      <td>jumanji</td>\n",
       "    </tr>\n",
       "    <tr>\n",
       "      <th>2</th>\n",
       "      <td>Grumpier Old Men</td>\n",
       "      <td>[walter_matthau, jack_lemmon, ann_margret]</td>\n",
       "      <td>howard_deutch</td>\n",
       "      <td>[romance, comedy]</td>\n",
       "      <td>[fishing]</td>\n",
       "      <td>en</td>\n",
       "      <td>11.712900</td>\n",
       "      <td>1990</td>\n",
       "      <td>grumpier_old_men</td>\n",
       "    </tr>\n",
       "    <tr>\n",
       "      <th>3</th>\n",
       "      <td>Waiting to Exhale</td>\n",
       "      <td>[whitney_houston, angela_bassett, loretta_devine]</td>\n",
       "      <td>forest_whitaker</td>\n",
       "      <td>[comedy, drama, romance]</td>\n",
       "      <td>[interracial_relationship, single_mother]</td>\n",
       "      <td>en</td>\n",
       "      <td>3.859495</td>\n",
       "      <td>1990</td>\n",
       "      <td>waiting_to_exhale</td>\n",
       "    </tr>\n",
       "    <tr>\n",
       "      <th>4</th>\n",
       "      <td>Father of the Bride Part II</td>\n",
       "      <td>[steve_martin, diane_keaton, martin_short]</td>\n",
       "      <td>charles_shyer</td>\n",
       "      <td>[comedy]</td>\n",
       "      <td>[midlife_crisis, confidence, aging, gynecologist]</td>\n",
       "      <td>en</td>\n",
       "      <td>8.387519</td>\n",
       "      <td>1990</td>\n",
       "      <td>father_of_the_bride_part_ii</td>\n",
       "    </tr>\n",
       "  </tbody>\n",
       "</table>\n",
       "</div>"
      ],
      "text/plain": [
       "                         title  \\\n",
       "0                    Toy Story   \n",
       "1                      Jumanji   \n",
       "2             Grumpier Old Men   \n",
       "3            Waiting to Exhale   \n",
       "4  Father of the Bride Part II   \n",
       "\n",
       "                                                cast             crew  \\\n",
       "0                [tom_hanks, tim_allen, don_rickles]    john_lasseter   \n",
       "1     [robin_williams, jonathan_hyde, kirsten_dunst]     joe_johnston   \n",
       "2         [walter_matthau, jack_lemmon, ann_margret]    howard_deutch   \n",
       "3  [whitney_houston, angela_bassett, loretta_devine]  forest_whitaker   \n",
       "4         [steve_martin, diane_keaton, martin_short]    charles_shyer   \n",
       "\n",
       "                         genres  \\\n",
       "0   [animation, comedy, family]   \n",
       "1  [adventure, fantasy, family]   \n",
       "2             [romance, comedy]   \n",
       "3      [comedy, drama, romance]   \n",
       "4                      [comedy]   \n",
       "\n",
       "                                            keywords original_language  \\\n",
       "0  [toy, boy, rivalry, boy_next_door, toy_comes_t...                en   \n",
       "1  [board_game, disappearance, based_on_children_...                en   \n",
       "2                                          [fishing]                en   \n",
       "3          [interracial_relationship, single_mother]                en   \n",
       "4  [midlife_crisis, confidence, aging, gynecologist]                en   \n",
       "\n",
       "  popularity release_date                  clean_title  \n",
       "0  21.946943         1990                    toy_story  \n",
       "1  17.015539         1990                      jumanji  \n",
       "2  11.712900         1990             grumpier_old_men  \n",
       "3   3.859495         1990            waiting_to_exhale  \n",
       "4   8.387519         1990  father_of_the_bride_part_ii  "
      ]
     },
     "execution_count": 25,
     "metadata": {},
     "output_type": "execute_result"
    }
   ],
   "source": [
    "training_df.head(5)"
   ]
  },
  {
   "cell_type": "markdown",
   "metadata": {
    "papermill": {
     "duration": 0.037042,
     "end_time": "2021-03-01T10:57:01.191379",
     "exception": false,
     "start_time": "2021-03-01T10:57:01.154337",
     "status": "completed"
    },
    "tags": []
   },
   "source": [
    "Now we will contact the features into one column (bow) stands for a bag of words. So we can feed it to the algorithm."
   ]
  },
  {
   "cell_type": "code",
   "execution_count": 26,
   "metadata": {
    "execution": {
     "iopub.execute_input": "2021-03-01T10:57:01.304475Z",
     "iopub.status.busy": "2021-03-01T10:57:01.303815Z",
     "iopub.status.idle": "2021-03-01T10:57:01.307392Z",
     "shell.execute_reply": "2021-03-01T10:57:01.306895Z"
    },
    "id": "t-ygAbMrJEpX",
    "papermill": {
     "duration": 0.078971,
     "end_time": "2021-03-01T10:57:01.307556",
     "exception": false,
     "start_time": "2021-03-01T10:57:01.228585",
     "status": "completed"
    },
    "tags": []
   },
   "outputs": [],
   "source": [
    "training_df['bow']=training_df['cast']+training_df['keywords'] + training_df['genres']\n",
    "training_df['bow']=training_df['bow'].apply(lambda x: ' '.join(x))+\" \"+training_df['crew']+\" \"+training_df['clean_title']\n",
    "\n",
    "\n"
   ]
  },
  {
   "cell_type": "code",
   "execution_count": 27,
   "metadata": {
    "execution": {
     "iopub.execute_input": "2021-03-01T10:57:01.389162Z",
     "iopub.status.busy": "2021-03-01T10:57:01.388485Z",
     "iopub.status.idle": "2021-03-01T10:57:01.392828Z",
     "shell.execute_reply": "2021-03-01T10:57:01.392313Z"
    },
    "id": "DulMydDtQD0I",
    "outputId": "0536ae92-586f-49ca-c618-f9b7ae0c6a7d",
    "papermill": {
     "duration": 0.048125,
     "end_time": "2021-03-01T10:57:01.392992",
     "exception": false,
     "start_time": "2021-03-01T10:57:01.344867",
     "status": "completed"
    },
    "tags": []
   },
   "outputs": [
    {
     "data": {
      "text/plain": [
       "0    tom_hanks tim_allen don_rickles toy boy rivalr...\n",
       "1    robin_williams jonathan_hyde kirsten_dunst boa...\n",
       "2    walter_matthau jack_lemmon ann_margret fishing...\n",
       "Name: bow, dtype: object"
      ]
     },
     "execution_count": 27,
     "metadata": {},
     "output_type": "execute_result"
    }
   ],
   "source": [
    "training_df[\"bow\"].head(3)"
   ]
  },
  {
   "cell_type": "markdown",
   "metadata": {
    "papermill": {
     "duration": 0.039013,
     "end_time": "2021-03-01T10:57:01.470347",
     "exception": false,
     "start_time": "2021-03-01T10:57:01.431334",
     "status": "completed"
    },
    "tags": []
   },
   "source": [
    "We will use CountVectorizer to count the number of words in each movie which will be represented by a row and the words of all movies will be the columns, then we will use the cosine similarity function to find similar movies. but before that, we will modify the count of the (genres, cast and directors) to have a higher weight than other words in the similarity function."
   ]
  },
  {
   "cell_type": "markdown",
   "metadata": {
    "papermill": {
     "duration": 0.037529,
     "end_time": "2021-03-01T10:57:01.545673",
     "exception": false,
     "start_time": "2021-03-01T10:57:01.508144",
     "status": "completed"
    },
    "tags": []
   },
   "source": [
    "Some columns have been dropped from the cleaning. So we need to reset the index of the rows."
   ]
  },
  {
   "cell_type": "code",
   "execution_count": 28,
   "metadata": {
    "execution": {
     "iopub.execute_input": "2021-03-01T10:57:01.627743Z",
     "iopub.status.busy": "2021-03-01T10:57:01.626326Z",
     "iopub.status.idle": "2021-03-01T10:57:01.630986Z",
     "shell.execute_reply": "2021-03-01T10:57:01.630267Z"
    },
    "papermill": {
     "duration": 0.047571,
     "end_time": "2021-03-01T10:57:01.631142",
     "exception": false,
     "start_time": "2021-03-01T10:57:01.583571",
     "status": "completed"
    },
    "tags": []
   },
   "outputs": [],
   "source": [
    "training_df=training_df.reset_index(drop=True)\n"
   ]
  },
  {
   "cell_type": "code",
   "execution_count": 29,
   "metadata": {
    "execution": {
     "iopub.execute_input": "2021-03-01T10:57:01.716020Z",
     "iopub.status.busy": "2021-03-01T10:57:01.715233Z",
     "iopub.status.idle": "2021-03-01T10:57:11.674425Z",
     "shell.execute_reply": "2021-03-01T10:57:11.673721Z"
    },
    "id": "aQiLXfCkJEpX",
    "outputId": "17aebe95-2c95-495f-9ec9-50232989e7de",
    "papermill": {
     "duration": 10.004684,
     "end_time": "2021-03-01T10:57:11.674606",
     "exception": false,
     "start_time": "2021-03-01T10:57:01.669922",
     "status": "completed"
    },
    "tags": []
   },
   "outputs": [
    {
     "name": "stderr",
     "output_type": "stream",
     "text": [
      "/opt/conda/lib/python3.7/site-packages/ipykernel_launcher.py:2: DeprecationWarning: The default dtype for empty Series will be 'object' instead of 'float64' in a future version. Specify a dtype explicitly to silence this warning.\n",
      "  \n",
      "/opt/conda/lib/python3.7/site-packages/ipykernel_launcher.py:3: DeprecationWarning: The default dtype for empty Series will be 'object' instead of 'float64' in a future version. Specify a dtype explicitly to silence this warning.\n",
      "  This is separate from the ipykernel package so we can avoid doing imports until\n"
     ]
    }
   ],
   "source": [
    "directors = training_df.apply(lambda x: pd.Series(x['crew']),axis=1).stack().reset_index(level=1, drop=True)\n",
    "cast = training_df.apply(lambda x: pd.Series(x['cast']),axis=1).stack().reset_index(level=1, drop=True)\n",
    "genres = training_df.apply(lambda x: pd.Series(x['genres']),axis=1).stack().reset_index(level=1, drop=True)\n"
   ]
  },
  {
   "cell_type": "code",
   "execution_count": 30,
   "metadata": {
    "execution": {
     "iopub.execute_input": "2021-03-01T10:57:11.756737Z",
     "iopub.status.busy": "2021-03-01T10:57:11.756042Z",
     "iopub.status.idle": "2021-03-01T10:57:11.770779Z",
     "shell.execute_reply": "2021-03-01T10:57:11.771323Z"
    },
    "id": "M2ErU_XmJEpY",
    "papermill": {
     "duration": 0.057416,
     "end_time": "2021-03-01T10:57:11.771531",
     "exception": false,
     "start_time": "2021-03-01T10:57:11.714115",
     "status": "completed"
    },
    "tags": []
   },
   "outputs": [],
   "source": [
    "\n",
    "directors=list(filter(None, directors))\n",
    "cast=list(filter(None, cast))\n",
    "genres=list(filter(None, genres))\n",
    "\n"
   ]
  },
  {
   "cell_type": "markdown",
   "metadata": {
    "papermill": {
     "duration": 0.039163,
     "end_time": "2021-03-01T10:57:11.850376",
     "exception": false,
     "start_time": "2021-03-01T10:57:11.811213",
     "status": "completed"
    },
    "tags": []
   },
   "source": [
    "The cast will have (5 * original count). Mostly the actor name will appear one in each bow for a movie so the count will be 1, the reason why the actors will have the most weight is a business decision, you could say the genres should have the highest weight or maybe the director. Try to change these weights and check how the recommendations will change accordingly."
   ]
  },
  {
   "cell_type": "code",
   "execution_count": 31,
   "metadata": {
    "execution": {
     "iopub.execute_input": "2021-03-01T10:57:11.931752Z",
     "iopub.status.busy": "2021-03-01T10:57:11.931084Z",
     "iopub.status.idle": "2021-03-01T10:57:12.250116Z",
     "shell.execute_reply": "2021-03-01T10:57:12.250679Z"
    },
    "id": "NZTgAI2nJEpY",
    "papermill": {
     "duration": 0.361617,
     "end_time": "2021-03-01T10:57:12.250865",
     "exception": false,
     "start_time": "2021-03-01T10:57:11.889248",
     "status": "completed"
    },
    "tags": []
   },
   "outputs": [],
   "source": [
    "from scipy.spatial.distance import cosine\n",
    "import numpy as np\n",
    "\n",
    "vectorizer = CountVectorizer(analyzer='word',min_df=0,strip_accents='ascii')\n",
    "train_array = vectorizer.fit_transform(training_df['bow'])\n",
    "words_weights =  dict.fromkeys(cast, 5)\n",
    "words_weights.update(dict.fromkeys(directors,3))\n",
    "words_weights.update(dict.fromkeys(genres,4))\n",
    "\n",
    "feature_names = vectorizer.get_feature_names()\n",
    "weights = np.ones(len(feature_names))\n",
    "\n",
    "\n"
   ]
  },
  {
   "cell_type": "code",
   "execution_count": 32,
   "metadata": {
    "execution": {
     "iopub.execute_input": "2021-03-01T10:57:12.375235Z",
     "iopub.status.busy": "2021-03-01T10:57:12.369947Z",
     "iopub.status.idle": "2021-03-01T10:57:16.617460Z",
     "shell.execute_reply": "2021-03-01T10:57:16.616693Z"
    },
    "id": "-JDDpPJKJEpY",
    "papermill": {
     "duration": 4.327572,
     "end_time": "2021-03-01T10:57:16.617615",
     "exception": false,
     "start_time": "2021-03-01T10:57:12.290043",
     "status": "completed"
    },
    "tags": []
   },
   "outputs": [],
   "source": [
    "for key, value in words_weights.items():\n",
    "        x=feature_names.index(str(key))\n",
    "        weights[x] = value"
   ]
  },
  {
   "cell_type": "code",
   "execution_count": 33,
   "metadata": {
    "execution": {
     "iopub.execute_input": "2021-03-01T10:57:16.702687Z",
     "iopub.status.busy": "2021-03-01T10:57:16.701339Z",
     "iopub.status.idle": "2021-03-01T10:57:18.452997Z",
     "shell.execute_reply": "2021-03-01T10:57:18.451704Z"
    },
    "id": "x5N9iXrBJEpZ",
    "papermill": {
     "duration": 1.79547,
     "end_time": "2021-03-01T10:57:18.453176",
     "exception": false,
     "start_time": "2021-03-01T10:57:16.657706",
     "status": "completed"
    },
    "tags": []
   },
   "outputs": [],
   "source": [
    "train_array=train_array.toarray()\n",
    "train_array=train_array*weights\n",
    "\n"
   ]
  },
  {
   "cell_type": "markdown",
   "metadata": {
    "papermill": {
     "duration": 0.044622,
     "end_time": "2021-03-01T10:57:18.539895",
     "exception": false,
     "start_time": "2021-03-01T10:57:18.495273",
     "status": "completed"
    },
    "tags": []
   },
   "source": [
    "###Cosine Similarity  \n",
    "we will use cosine similarity to find the similarity between movies based on the words counts in each movie. you could use other algorithms or create you on. \n",
    "\n",
    "![](https://wikimedia.org/api/rest_v1/media/math/render/svg/1d94e5903f7936d3c131e040ef2c51b473dd071d)\n",
    "Example: Let two movies M1 and M2, and cosine_similarity(M1, M2) the similarity between these two movies according to their similarity in the (bow) column:\n",
    "cosine_similarity(M1, M2)=1 if the two movies have the same words counts or if M1=M2.\n",
    "cosine_similarity(M1, M2)=0 if we do not find any common words between them.\n",
    "you can read more about cosine similarity [here](https://en.wikipedia.org/wiki/Cosine_similarity) and [here](https://scikit-learn.org/stable/modules/metrics.html#cosine-similaritycosine_similarity). "
   ]
  },
  {
   "cell_type": "code",
   "execution_count": 34,
   "metadata": {
    "execution": {
     "iopub.execute_input": "2021-03-01T10:57:18.625925Z",
     "iopub.status.busy": "2021-03-01T10:57:18.624646Z",
     "iopub.status.idle": "2021-03-01T11:34:56.127835Z",
     "shell.execute_reply": "2021-03-01T11:34:56.127078Z"
    },
    "papermill": {
     "duration": 2257.548434,
     "end_time": "2021-03-01T11:34:56.128010",
     "exception": false,
     "start_time": "2021-03-01T10:57:18.579576",
     "status": "completed"
    },
    "tags": []
   },
   "outputs": [],
   "source": [
    "cosine_sim = cosine_similarity(train_array, train_array)"
   ]
  },
  {
   "cell_type": "code",
   "execution_count": 35,
   "metadata": {
    "execution": {
     "iopub.execute_input": "2021-03-01T11:34:56.214207Z",
     "iopub.status.busy": "2021-03-01T11:34:56.213447Z",
     "iopub.status.idle": "2021-03-01T11:34:56.216604Z",
     "shell.execute_reply": "2021-03-01T11:34:56.217098Z"
    },
    "papermill": {
     "duration": 0.049285,
     "end_time": "2021-03-01T11:34:56.217264",
     "exception": false,
     "start_time": "2021-03-01T11:34:56.167979",
     "status": "completed"
    },
    "tags": []
   },
   "outputs": [],
   "source": [
    "indices = pd.Series(training_df.index, index=training_df['title'])    "
   ]
  },
  {
   "cell_type": "markdown",
   "metadata": {
    "papermill": {
     "duration": 0.039018,
     "end_time": "2021-03-01T11:34:56.300218",
     "exception": false,
     "start_time": "2021-03-01T11:34:56.261200",
     "status": "completed"
    },
    "tags": []
   },
   "source": [
    "The main idea of this recommendations algorithm to find the most similar movies based on the features we determine earlier (cast, director, genres...etc). Popularity narrows the list to the most popular items and reduces the risk for showing items that are for particular (and maybe unpopular) tastes but remember that if a user likes unusual items more than popular items, the unusual ones would still bubble up in the list.  Our algorithm will not rerank the movies and depends on the similarity score to determine the rank."
   ]
  },
  {
   "cell_type": "code",
   "execution_count": 36,
   "metadata": {
    "execution": {
     "iopub.execute_input": "2021-03-01T11:34:56.382383Z",
     "iopub.status.busy": "2021-03-01T11:34:56.381759Z",
     "iopub.status.idle": "2021-03-01T11:34:56.387148Z",
     "shell.execute_reply": "2021-03-01T11:34:56.387654Z"
    },
    "id": "WIihliLuJEpa",
    "papermill": {
     "duration": 0.048255,
     "end_time": "2021-03-01T11:34:56.387855",
     "exception": false,
     "start_time": "2021-03-01T11:34:56.339600",
     "status": "completed"
    },
    "tags": []
   },
   "outputs": [],
   "source": [
    "def get_recommendations(title):\n",
    "    idx = indices[title].iloc[0]\n",
    "    sim_scores = list(enumerate(cosine_sim[idx]))\n",
    "    sim_scores = sorted(sim_scores, key=lambda x: x[1], reverse=True)\n",
    "    sim_scores = sim_scores[1:31]\n",
    "    movie_indices = [i[0] for i in sim_scores]\n",
    "    return training_df.iloc[movie_indices]['title']"
   ]
  },
  {
   "cell_type": "code",
   "execution_count": 37,
   "metadata": {
    "execution": {
     "iopub.execute_input": "2021-03-01T11:34:56.470464Z",
     "iopub.status.busy": "2021-03-01T11:34:56.469808Z",
     "iopub.status.idle": "2021-03-01T11:34:56.493521Z",
     "shell.execute_reply": "2021-03-01T11:34:56.494012Z"
    },
    "id": "vHDd7tKvJEpa",
    "outputId": "5a652be5-a880-43a7-f7eb-fea183d385ba",
    "papermill": {
     "duration": 0.066555,
     "end_time": "2021-03-01T11:34:56.494200",
     "exception": false,
     "start_time": "2021-03-01T11:34:56.427645",
     "status": "completed"
    },
    "tags": []
   },
   "outputs": [
    {
     "data": {
      "text/plain": [
       "3180                      The Beach\n",
       "331     What's Eating Gilbert Grape\n",
       "5208                         Enigma\n",
       "1043                           Jude\n",
       "1046                 Romeo + Juliet\n",
       "198                   Total Eclipse\n",
       "6092         The Life of David Gale\n",
       "5600              Absence of Malice\n",
       "4866                           Iris\n",
       "2484                  Hideous Kinky\n",
       "Name: title, dtype: object"
      ]
     },
     "execution_count": 37,
     "metadata": {},
     "output_type": "execute_result"
    }
   ],
   "source": [
    "get_recommendations('Titanic').head(10)"
   ]
  },
  {
   "cell_type": "markdown",
   "metadata": {
    "papermill": {
     "duration": 0.039967,
     "end_time": "2021-03-01T11:34:56.575669",
     "exception": false,
     "start_time": "2021-03-01T11:34:56.535702",
     "status": "completed"
    },
    "tags": []
   },
   "source": [
    "This kind of recommender system called white box recommender because you have the answer to why you getting these recommendations. for example in the Titanic results we got most movies with the same leading actors as Titanic. Recommender system called black box recommender system like for example collaborative filtering if it's hard to explain why we are getting these result. The more your system needs to explain, the simpler the algorithm. The better the quality of the recommendation, the more complex and harder to show explanations. This problem is known as[ model accuracy-model interpretation trade-off](https://machinelearningmastery.com/model-prediction-versus-interpretation-in-machine-learning/). "
   ]
  },
  {
   "cell_type": "markdown",
   "metadata": {
    "papermill": {
     "duration": 0.040104,
     "end_time": "2021-03-01T11:34:56.656142",
     "exception": false,
     "start_time": "2021-03-01T11:34:56.616038",
     "status": "completed"
    },
    "tags": []
   },
   "source": [
    "There is always room for improvement. The algorithm we used has many Disadvantages, for example when we use to increase the size of the data a little bit then the size of movies/words matrix train_array will significantly increase. In the next notebook, we will try to use other recommednation algorithims stay tuned."
   ]
  },
  {
   "cell_type": "markdown",
   "metadata": {
    "papermill": {
     "duration": 0.040281,
     "end_time": "2021-03-01T11:34:56.737319",
     "exception": false,
     "start_time": "2021-03-01T11:34:56.697038",
     "status": "completed"
    },
    "tags": []
   },
   "source": [
    "References:\n",
    "1. https://www.kaggle.com/rounakbanik/movie-recommender-systems\n",
    "2. https://www.goodreads.com/book/show/28510003-practical-recommender-systems"
   ]
  }
 ],
 "metadata": {
  "kernelspec": {
   "display_name": "Python 3",
   "language": "python",
   "name": "python3"
  },
  "language_info": {
   "codemirror_mode": {
    "name": "ipython",
    "version": 3
   },
   "file_extension": ".py",
   "mimetype": "text/x-python",
   "name": "python",
   "nbconvert_exporter": "python",
   "pygments_lexer": "ipython3",
   "version": "3.7.9"
  },
  "papermill": {
   "default_parameters": {},
   "duration": 2310.342594,
   "end_time": "2021-03-01T11:34:57.488068",
   "environment_variables": {},
   "exception": null,
   "input_path": "__notebook__.ipynb",
   "output_path": "__notebook__.ipynb",
   "parameters": {},
   "start_time": "2021-03-01T10:56:27.145474",
   "version": "2.2.2"
  }
 },
 "nbformat": 4,
 "nbformat_minor": 4
}
